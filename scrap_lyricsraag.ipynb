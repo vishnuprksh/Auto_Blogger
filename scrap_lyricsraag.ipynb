





""" Collecting the details"""

for url in urls:
  r = requests.get(url)
  soup = BeautifulSoup(r.text, 'html.parser')

  title = soup.find('h1', id = 'page-title')
  lyrics = soup.find('div', property='content:encoded')
  singer = soup.find('div', property="schema:byArtist")
  music_by = soup.find('div', property="schema:composer")
  lyrics_by = soup.find('div', property="schema:lyricist")
  movie = soup.find('div', property="schema:inAlbum")

  titles_malayalam.append(title.text)
  lyrics_list.append(lyrics)
  singer_list.append(singer.a.get('href').replace("/", "").replace("-", " "))
  musician_list.append(music_by.a.get('href').replace("/", "").replace("-", " "))
  lyricist_list.append(lyrics_by.a.get('href').replace("/", "").replace("-", " "))
  movie_list.append(movie.a.get('href').replace("/film/", "").replace("-", " "))

for i in range(len(titles_english)):
  titles_english[i] = " ".join([word.title() for word in titles_english[i].split()])
  singer_list[i] = " ".join([word.title() for word in singer_list[i].split()])
  musician_list[i] = " ".join([word.title() for word in musician_list[i].split()])
  lyricist_list[i] = " ".join([word.title() for word in lyricist_list[i].split()])
  movie_list[i] = " ".join([word.title() for word in movie_list[i].split()])

""" Saving the details in a file"""

with open("details.txt", "a") as file:
  for i in range(len(titles_english)):
    file.write(singer_list[i] + '\n')
    file.write(musician_list[i] + '\n')
    file.write(lyricist_list[i] + '\n')
    file.write(titles_english[i] + '\n')
    file.write(titles_malayalam[i] + '\n')
    file.write(movie_list[i] + '\n')

with open("lyrics.txt", "a") as file:
    for i in range(len(lyrics_list)):
      file.write(str(lyrics_list[i]))
